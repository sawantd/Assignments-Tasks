{
 "cells": [
  {
   "cell_type": "markdown",
   "id": "4e11527a",
   "metadata": {},
   "source": [
    "1 . You have to write a fun which will take string and return a len of \n",
    "it without using a inbuilt fun len"
   ]
  },
  {
   "cell_type": "code",
   "execution_count": 39,
   "id": "2c1e4294",
   "metadata": {},
   "outputs": [],
   "source": [
    "def str_len(string):\n",
    "    \"\"\"Input : str\n",
    "       This function returns the length of the string.\"\"\"\n",
    "    if type(string) == str:\n",
    "        return (string.rindex(string[-1]) + 1)"
   ]
  },
  {
   "cell_type": "code",
   "execution_count": 10,
   "id": "c953974d",
   "metadata": {},
   "outputs": [
    {
     "data": {
      "text/plain": [
       "8"
      ]
     },
     "execution_count": 10,
     "metadata": {},
     "output_type": "execute_result"
    }
   ],
   "source": [
    "str_len(\"Darshana\")"
   ]
  },
  {
   "cell_type": "markdown",
   "id": "68ab1e20",
   "metadata": {},
   "source": [
    "2 . Write a fun which will be able to print an index of all premitive element which you will pass "
   ]
  },
  {
   "cell_type": "code",
   "execution_count": 41,
   "id": "c4d6240f",
   "metadata": {},
   "outputs": [],
   "source": [
    "def indx(a):\n",
    "    \"\"\" This function returns the index of each and every element contained in the collection.\"\"\"\n",
    "    if type(a) != dict:\n",
    "        for i in range(len(a)):\n",
    "            print(\"The index of\", a[i], \":\", i)\n",
    "    else:\n",
    "        for i in a:\n",
    "            print(\"The key of\", a[i], \":\", i)"
   ]
  },
  {
   "cell_type": "code",
   "execution_count": 16,
   "id": "c8bc6167",
   "metadata": {},
   "outputs": [
    {
     "name": "stdout",
     "output_type": "stream",
     "text": [
      "The index of 1 : 0\n",
      "The index of 2 : 1\n",
      "The index of 3 : 2\n",
      "The index of 4 : 3\n",
      "The index of 5 : 4\n",
      "The index of 5 : 5\n"
     ]
    }
   ],
   "source": [
    "indx([1,2,3,4,5,5])"
   ]
  },
  {
   "cell_type": "code",
   "execution_count": 17,
   "id": "ef4a7a85",
   "metadata": {},
   "outputs": [
    {
     "name": "stdout",
     "output_type": "stream",
     "text": [
      "The index of D : 0\n",
      "The index of a : 1\n",
      "The index of r : 2\n",
      "The index of s : 3\n",
      "The index of h : 4\n",
      "The index of a : 5\n",
      "The index of n : 6\n",
      "The index of a : 7\n"
     ]
    }
   ],
   "source": [
    "indx(\"Darshana\")"
   ]
  },
  {
   "cell_type": "code",
   "execution_count": 22,
   "id": "23a3292a",
   "metadata": {},
   "outputs": [
    {
     "name": "stdout",
     "output_type": "stream",
     "text": [
      "The key of 1 : a\n"
     ]
    }
   ],
   "source": [
    "indx({\"a\": 1})"
   ]
  },
  {
   "cell_type": "markdown",
   "id": "86f21c0a",
   "metadata": {},
   "source": [
    "3 . Write a fun which will take input as a dict and give me out as a list of all the values \n",
    "even in case of 2 level nesting it should work . "
   ]
  },
  {
   "cell_type": "code",
   "execution_count": 42,
   "id": "1410c01e",
   "metadata": {},
   "outputs": [],
   "source": [
    "def val_lst(d):\n",
    "    \"\"\"Input : dict\n",
    "       This function returns a list of values contained in the dictionary.\"\"\"\n",
    "    if type(d) == dict:\n",
    "        l =[]\n",
    "        for i in d.values():\n",
    "            if type(i) != dict:\n",
    "                l.append(i)\n",
    "            else:\n",
    "                for j in i.values():\n",
    "                    l.append(j)\n",
    "    return l                "
   ]
  },
  {
   "cell_type": "code",
   "execution_count": 37,
   "id": "15980e5a",
   "metadata": {},
   "outputs": [
    {
     "data": {
      "text/plain": [
       "[1, 2, [1, 2, 3], 1, 2, 'abc']"
      ]
     },
     "execution_count": 37,
     "metadata": {},
     "output_type": "execute_result"
    }
   ],
   "source": [
    "val_lst({1:1, 2:2, \"l\": [1,2,3], \"b\":{\"a\":1, \"b\":2}, \"d\":\"abc\"})"
   ]
  },
  {
   "cell_type": "markdown",
   "id": "4794e6b5",
   "metadata": {},
   "source": [
    "4 . Write a fun which will take another function as an input and return me an output "
   ]
  },
  {
   "cell_type": "code",
   "execution_count": 84,
   "id": "b87cbd8a",
   "metadata": {},
   "outputs": [],
   "source": [
    "def chg_type(a):\n",
    "    \"\"\"This function takes numeric collection as an input.\n",
    "       Hint : list, set, tuple, dictionary consististing of integers only.\"\"\"\n",
    "    lst = []\n",
    "    if type(a) not in (dict, tuple):\n",
    "        for i in a:\n",
    "            lst.append(i)\n",
    "    elif type(a) == tuple:\n",
    "        b = list(a)\n",
    "        lst.extend(b)\n",
    "    else:\n",
    "        for i in a.values():\n",
    "            if type(i) == int:\n",
    "                lst.append(i)   \n",
    "    def total():\n",
    "        \"\"\"This function returns the sum of the values present within the collection passed.\"\"\"\n",
    "        return sum(lst)\n",
    "    return total   "
   ]
  },
  {
   "cell_type": "code",
   "execution_count": 67,
   "id": "d14bdf11",
   "metadata": {},
   "outputs": [],
   "source": [
    "a = chg_type((2,3,4,5,49,90,2))"
   ]
  },
  {
   "cell_type": "code",
   "execution_count": 68,
   "id": "345f6c75",
   "metadata": {},
   "outputs": [
    {
     "data": {
      "text/plain": [
       "155"
      ]
     },
     "execution_count": 68,
     "metadata": {},
     "output_type": "execute_result"
    }
   ],
   "source": [
    "a()"
   ]
  },
  {
   "cell_type": "code",
   "execution_count": 85,
   "id": "aa872b2e",
   "metadata": {},
   "outputs": [],
   "source": [
    "a = chg_type({\"a\":23, \"b\":18})"
   ]
  },
  {
   "cell_type": "code",
   "execution_count": 86,
   "id": "b9b993f8",
   "metadata": {},
   "outputs": [
    {
     "data": {
      "text/plain": [
       "41"
      ]
     },
     "execution_count": 86,
     "metadata": {},
     "output_type": "execute_result"
    }
   ],
   "source": [
    "a()"
   ]
  },
  {
   "cell_type": "markdown",
   "id": "9f7400db",
   "metadata": {},
   "source": [
    "5 . Write a function which will take multiple list as a input and give me concatenation of all the element as \n",
    "and output "
   ]
  },
  {
   "cell_type": "code",
   "execution_count": 88,
   "id": "fe02632f",
   "metadata": {},
   "outputs": [],
   "source": [
    "def comb(*args):\n",
    "    \"\"\"Input : list\n",
    "       This function takes multiple lists as an input and returns the concatenation of all the elements\"\"\"\n",
    "    lst = []\n",
    "    for i in args:\n",
    "        if type(i) == list:\n",
    "            for j in i:\n",
    "                lst.append(j)\n",
    "    return lst       \n",
    "            "
   ]
  },
  {
   "cell_type": "code",
   "execution_count": 89,
   "id": "eabc89c9",
   "metadata": {},
   "outputs": [
    {
     "data": {
      "text/plain": [
       "[1, 2, 3, 1, 2, 3, 'a']"
      ]
     },
     "execution_count": 89,
     "metadata": {},
     "output_type": "execute_result"
    }
   ],
   "source": [
    "comb([1,2,3], [1,2,3, \"a\"])"
   ]
  },
  {
   "cell_type": "code",
   "execution_count": 87,
   "id": "c8b893be",
   "metadata": {},
   "outputs": [
    {
     "data": {
      "text/plain": [
       "[1, 2, 3]"
      ]
     },
     "execution_count": 87,
     "metadata": {},
     "output_type": "execute_result"
    }
   ],
   "source": [
    "comb([1,2,3])"
   ]
  },
  {
   "cell_type": "markdown",
   "id": "fc53d937",
   "metadata": {},
   "source": [
    "6 . Write a function which will be able to take a list as an input return an index of each element \n",
    "like a inbuilt index function but even if we have repetative element it should return index "
   ]
  },
  {
   "cell_type": "code",
   "execution_count": 95,
   "id": "bd07ff68",
   "metadata": {},
   "outputs": [],
   "source": [
    "def indx1(l):\n",
    "    \"\"\"Input : list\n",
    "       This function returns the index of each elements contained in the list.\"\"\"\n",
    "    if type(l) == list:\n",
    "        for i in range(len(l)):\n",
    "            print(\"The index of\", l[i], \":\", i)"
   ]
  },
  {
   "cell_type": "code",
   "execution_count": 94,
   "id": "eadcc856",
   "metadata": {},
   "outputs": [
    {
     "name": "stdout",
     "output_type": "stream",
     "text": [
      "The index of 5 : 0\n",
      "The index of 6 : 1\n",
      "The index of 7 : 2\n",
      "The index of 8 : 3\n",
      "The index of 6 : 4\n",
      "The index of 7 : 5\n",
      "The index of xyz : 6\n",
      "The index of 67 : 7\n",
      "The index of 6 : 8\n",
      "The index of 5 : 9\n",
      "The index of 43 : 10\n",
      "The index of 21 : 11\n",
      "The index of 2 : 12\n",
      "The index of 3 : 13\n",
      "The index of 4 : 14\n",
      "The index of 2 : 15\n",
      "The index of abc : 16\n",
      "The index of abc : 17\n"
     ]
    }
   ],
   "source": [
    "indx1([5,6,7,8,6,7,\"xyz\",67,6,5,43,21,2,3,4,2,\"abc\", \"abc\"])"
   ]
  },
  {
   "cell_type": "markdown",
   "id": "6801cf13",
   "metadata": {},
   "source": [
    "7 . Write a function which will would return list of all the file name from a directory."
   ]
  },
  {
   "cell_type": "code",
   "execution_count": 6,
   "id": "82bafd43",
   "metadata": {},
   "outputs": [],
   "source": [
    "import os\n",
    "\n",
    "def file_lst(path):\n",
    "    \"\"\"Input : Directory path\n",
    "       This function returns a list of all the file names from the given directory.\n",
    "    \"\"\"\n",
    "    lst = os.listdir(path)\n",
    "    return lst    \n"
   ]
  },
  {
   "cell_type": "code",
   "execution_count": 7,
   "id": "915979bc",
   "metadata": {},
   "outputs": [
    {
     "data": {
      "text/plain": [
       "['Image',\n",
       " 'Python Basics - Day (Functions, Comprehensions, Iterables, Iterators).ipynb',\n",
       " 'Python Basics - Day 3 ( Tuples, Sets, Dictionary ).ipynb',\n",
       " 'Python Basics - Day 5 ( For Else, While Loop ).ipynb',\n",
       " 'Python Basics - Day 6 ( Loops in detail ).ipynb',\n",
       " 'Python Basics - Day 7 ( Functions - User defined ).ipynb',\n",
       " 'Python Basics.ipynb',\n",
       " 'Python Series - Day 1.ipynb',\n",
       " 'Python Series - Day 2 .ipynb',\n",
       " 'Python Series - Day 4 Control flows ( If else, While ).ipynb',\n",
       " 'Resources']"
      ]
     },
     "execution_count": 7,
     "metadata": {},
     "output_type": "execute_result"
    }
   ],
   "source": [
    "file_lst(\"C:\\\\Users\\\\Darshana\\\\Desktop\\\\Darshana\\\\Ineuron Internship\")"
   ]
  },
  {
   "cell_type": "markdown",
   "id": "d267b46f",
   "metadata": {},
   "source": [
    "8 . Write a function which will be able to show your system configuration. "
   ]
  },
  {
   "cell_type": "code",
   "execution_count": 16,
   "id": "af529e76",
   "metadata": {},
   "outputs": [],
   "source": [
    "def sysinfo():\n",
    "    import platform\n",
    "    \"\"\"Input : None\n",
    "       This function returns the system configuration details.\"\"\"\n",
    "    a = platform.uname()\n",
    "    b = \"System Information\"\n",
    "    print(b.center(70,\"*\"))\n",
    "    print(f\"System: {a.system}\")\n",
    "    print(f\"Node name: {a.node}\")\n",
    "    print(f\"Release: {a.release}\")          \n",
    "    print(f\"Version: {a.version}\")\n",
    "    print(f\"Machine: {a.machine}\")\n",
    "    print(f\"Processor: {a.processor}\")\n"
   ]
  },
  {
   "cell_type": "code",
   "execution_count": 3,
   "id": "6cf30136",
   "metadata": {},
   "outputs": [
    {
     "name": "stdout",
     "output_type": "stream",
     "text": [
      "**************************System Information**************************\n",
      "System: Windows\n",
      "Node name: DESKTOP-4JKIHGP\n",
      "Release: 10\n",
      "Version: 10.0.19042\n",
      "Machine: AMD64\n",
      "Processor: Intel64 Family 6 Model 78 Stepping 3, GenuineIntel\n"
     ]
    }
   ],
   "source": [
    "sysinfo()"
   ]
  },
  {
   "cell_type": "markdown",
   "id": "83680445",
   "metadata": {},
   "source": [
    "9 . Write a function which will be able to show date and time. "
   ]
  },
  {
   "cell_type": "code",
   "execution_count": 19,
   "id": "c2064ede",
   "metadata": {},
   "outputs": [],
   "source": [
    "def datetime():\n",
    "    \"\"\"Input : None\n",
    "       This function displays the current datetime.\"\"\"\n",
    "    import datetime\n",
    "    a = datetime.datetime.now()\n",
    "    b = a.strftime(\"%d-%m-%Y %H:%M:%S\")\n",
    "    return f\"Current Datetime : {b}\""
   ]
  },
  {
   "cell_type": "code",
   "execution_count": 20,
   "id": "cfdff9c3",
   "metadata": {},
   "outputs": [
    {
     "data": {
      "text/plain": [
       "'Current Datetime : 12-01-2022 08:22:02'"
      ]
     },
     "execution_count": 20,
     "metadata": {},
     "output_type": "execute_result"
    }
   ],
   "source": [
    "datetime()"
   ]
  },
  {
   "cell_type": "markdown",
   "id": "dda1a975",
   "metadata": {},
   "source": [
    "10 . Write a function which will be able to read a image file and show it to you ."
   ]
  },
  {
   "cell_type": "code",
   "execution_count": 4,
   "id": "2435545a",
   "metadata": {},
   "outputs": [],
   "source": [
    "def image_rd(path):\n",
    "    \"\"\"Input : Path of the image location.\n",
    "       THis function reads an image file and views it in the output window.\"\"\"\n",
    "    import matplotlib.image as mpimg\n",
    "    import matplotlib.pyplot as plt\n",
    "    img = mpimg.imread(path)\n",
    "    plt.imshow(img)"
   ]
  },
  {
   "cell_type": "code",
   "execution_count": 5,
   "id": "25b3f38c",
   "metadata": {},
   "outputs": [
    {
     "data": {
      "image/png": "[encoded data removed]",
      "text/plain": [
       "<Figure size 432x288 with 1 Axes>"
      ]
     },
     "metadata": {
      "needs_background": "light"
     },
     "output_type": "display_data"
    }
   ],
   "source": [
    "image_rd(\"C:\\\\Users\\\\Darshana\\\\Desktop\\\\Darshana\\\\Ineuron Internship\\\\Image\\\\nature_view.jpg\")"
   ]
  },
  {
   "cell_type": "markdown",
   "id": "988ea90a",
   "metadata": {},
   "source": [
    "11 . Write a function which can read video file and play for you . "
   ]
  },
  {
   "cell_type": "code",
   "execution_count": 3,
   "id": "acc55cdd",
   "metadata": {},
   "outputs": [],
   "source": [
    "def videoplay(path):\n",
    "    \"\"\"Input : Path of Video file location.\n",
    "       This function reads a video file and plays it.\"\"\"\n",
    "    import cv2\n",
    "    import numpy as np\n",
    "    capture = cv2.VideoCapture(path)\n",
    "    if (capture.isOpened() == False):\n",
    "        print(\"Error opening video file\")\n",
    "    while(capture.isOpened()):\n",
    "        ret, frame = capture.read()\n",
    "        if ret == True:\n",
    "            cv2.imshow(\"Frame\", frame)\n",
    "            if cv2.waitKey(25) and 0xFF == ord('q'):\n",
    "                break\n",
    "        else:\n",
    "            break\n",
    "    capture.release()   \n",
    "    cv2.destroyAllWindows()\n",
    "        "
   ]
  },
  {
   "cell_type": "code",
   "execution_count": 4,
   "id": "bad59334",
   "metadata": {},
   "outputs": [],
   "source": [
    "videoplay(\"C:\\\\Users\\\\Darshana\\\\Desktop\\\\Darshana\\\\Ineuron Internship\\\\Image\\\\SampleVideo.mp4\")"
   ]
  },
  {
   "cell_type": "markdown",
   "id": "21f8a7e4",
   "metadata": {},
   "source": [
    "12 . Write a function which can move a file from one directory to another directory . "
   ]
  },
  {
   "cell_type": "code",
   "execution_count": 12,
   "id": "22bbe4dc",
   "metadata": {},
   "outputs": [],
   "source": [
    "def move_file(source,destination):\n",
    "    \"\"\"Input : Source path, Destination path.\n",
    "       This function moves a file from the specified source directory to the destination directory.\"\"\"\n",
    "    import shutil\n",
    "    shutil.move(source,destination)\n",
    "    return \"The file has been successfully moved to the destination\""
   ]
  },
  {
   "cell_type": "code",
   "execution_count": 13,
   "id": "5ec4e395",
   "metadata": {},
   "outputs": [
    {
     "data": {
      "text/plain": [
       "'The file has been successfully moved to the destination'"
      ]
     },
     "execution_count": 13,
     "metadata": {},
     "output_type": "execute_result"
    }
   ],
   "source": [
    "move_file(\"C:\\\\Users\\\\Darshana\\\\Desktop\\\\Darshana\\\\Ineuron Internship\\\\demo.txt\", \n",
    "          \"C:\\\\Users\\\\Darshana\\\\Desktop\\\\Darshana\\\\Ineuron Internship\\\\Resources\")"
   ]
  },
  {
   "cell_type": "markdown",
   "id": "bc1aa7c0",
   "metadata": {},
   "source": [
    "13 . Write a function which will be able to shutdown your system . "
   ]
  },
  {
   "cell_type": "code",
   "execution_count": 14,
   "id": "df6e50e9",
   "metadata": {},
   "outputs": [],
   "source": [
    "def shutdown_sys():\n",
    "    \"\"\"This function shutdowns the system\"\"\"\n",
    "    import os\n",
    "    os.system(\"shutdown /s\")"
   ]
  },
  {
   "cell_type": "code",
   "execution_count": null,
   "id": "e4c1d32f",
   "metadata": {},
   "outputs": [],
   "source": [
    "shutdown_sys()"
   ]
  },
  {
   "cell_type": "markdown",
   "id": "099ba760",
   "metadata": {},
   "source": [
    "14 . Write a function which will be able to access your mail."
   ]
  },
  {
   "cell_type": "code",
   "execution_count": null,
   "id": "d455a2e4",
   "metadata": {},
   "outputs": [],
   "source": []
  },
  {
   "cell_type": "markdown",
   "id": "79fc8cb8",
   "metadata": {},
   "source": [
    "15 . Write a function by which i can send a mail to anyone. "
   ]
  },
  {
   "cell_type": "code",
   "execution_count": 10,
   "id": "58346f76",
   "metadata": {},
   "outputs": [],
   "source": [
    "def send_mail(mailid, password, r_id, message):\n",
    "    \"\"\"With the help of this function we can send an email via gmail to anyone.\n",
    "       Input : Sender's emailid, Sender's password, Receiver's emailid, Message.\"\"\"\n",
    "    import smtplib\n",
    "    server = smtplib.SMTP(\"smtp.gmail.com\", 587)\n",
    "    server.starttls()\n",
    "    server.login(mailid, password)\n",
    "    server.sendmail(mailid,\n",
    "                   r_id,\n",
    "                   message)\n",
    "    server.quit()\n",
    "    "
   ]
  },
  {
   "cell_type": "code",
   "execution_count": null,
   "id": "4166ff6e",
   "metadata": {},
   "outputs": [],
   "source": [
    "send_mail(\"from@gmail.com\", \"Password\", \"to@gmail.com\", \"Hello, You will always make wonder\")"
   ]
  },
  {
   "cell_type": "markdown",
   "id": "33444d7b",
   "metadata": {},
   "source": [
    "16 . Write a function to read a complete PDf file. "
   ]
  },
  {
   "cell_type": "code",
   "execution_count": 33,
   "id": "ffbdbafa",
   "metadata": {},
   "outputs": [],
   "source": [
    "def pdfreader(file):\n",
    "    \"\"\"Input : Path of pdf file location.\n",
    "       This function reads a complete pdf file\"\"\"\n",
    "    import PyPDF2\n",
    "    FileObject = open(file, \"rb\")\n",
    "    ReaderObject = PyPDF2.PdfFileReader(FileObject)\n",
    "    for i in range(ReaderObject.numPages):\n",
    "        PageObject = ReaderObject.getPage(i)\n",
    "        print(f\"Page {i+1}: {PageObject.extractText()}\")\n",
    "    "
   ]
  },
  {
   "cell_type": "code",
   "execution_count": 34,
   "id": "749056d5",
   "metadata": {},
   "outputs": [
    {
     "name": "stdout",
     "output_type": "stream",
     "text": [
      "Page 1:  \n",
      "Lorem Ipsum\n",
      " \n",
      "is simply dummy text of the printing and typesetting industry. Lorem Ipsum has been \n",
      "the industry's standard dummy text ever since the 1500s, when an unknown printer took a galley of \n",
      "type and scrambled it to make a type specimen book. It has survived not o\n",
      "nly five centuries, but also \n",
      "the leap into electronic typesetting, remaining essentially unchanged. It was popularised in the 1960s \n",
      "with the release of Letraset sheets containing Lorem Ipsum passages, and more recently with desktop \n",
      "publishing software like\n",
      " \n",
      "Aldus PageMaker including versions of Lorem Ipsum.\n",
      " \n",
      "Why do we use it?\n",
      " \n",
      "It is a long established fact that a reader will be distracted by the readable content of a page when \n",
      "looking at its layout. The point of using Lorem Ipsum is that it has a more\n",
      "-\n",
      "or\n",
      "-\n",
      "less \n",
      "normal distribution \n",
      "of letters, as opposed to using 'Content here, content here', making it look like readable English. Many \n",
      "desktop publishing packages and web page editors now use Lorem Ipsum as their default model text, \n",
      "and a search for 'lorem ipsum' wi\n",
      "ll uncover many web sites still in their infancy. Various versions have \n",
      "evolved over the years, sometimes by accident, sometimes on purpose (injected humour and the like).\n",
      " \n",
      " \n",
      "\n"
     ]
    }
   ],
   "source": [
    "pdfreader(\"test.pdf\")"
   ]
  },
  {
   "cell_type": "markdown",
   "id": "8ea6eb6d",
   "metadata": {},
   "source": [
    "17 . Write a function to read a word file . "
   ]
  },
  {
   "cell_type": "code",
   "execution_count": 40,
   "id": "8d6bcfb7",
   "metadata": {},
   "outputs": [],
   "source": [
    "def wordread(file):\n",
    "    \"\"\"Input : Path of the word file location.\n",
    "       This function reads a word file.\n",
    "       Note : Call the function within print function to view the output.\"\"\"\n",
    "    import docx\n",
    "    document = docx.Document(file)\n",
    "    finaltext = []\n",
    "    for line in document.paragraphs:\n",
    "        finaltext.append(line.text)\n",
    "    return '\\n'.join(finaltext)"
   ]
  },
  {
   "cell_type": "code",
   "execution_count": 41,
   "id": "435cabcc",
   "metadata": {},
   "outputs": [
    {
     "name": "stdout",
     "output_type": "stream",
     "text": [
      "This is Heading1 Text\n",
      "This is a regular paragraph with the default style of Normal. This is a regular paragraph with the default style of Normal. This is a regular paragraph with the default style of Normal. This is a regular paragraph with the default style of Normal. This is a regular paragraph with the default style of Normal.\n",
      "This is a Defined Block Style Called BlockStyleTest\n",
      "This is more Normal text.\n",
      "This is Heading 2 text\n",
      "This is more Normal text. This is bold, this is italic, and this is bold italic. This is normal. This is in a defined inline style called InlineStyle. This is normal. This is red text. This is normal.\n",
      "This block is centered.\n",
      "This is left-aligned.\n",
      " \n",
      "First item of bulleted list.\n",
      "Second item of bulleted list.\n",
      "Second paragraph of second item of bulleted list.\n",
      "Third item of bulleted list.\n",
      "First item of third item’s nested list\n",
      "Second item of third item’s nested list\n",
      "Fourth and final item of main bulleted list.\n",
      " \n",
      "\n"
     ]
    }
   ],
   "source": [
    "print(wordread(\"fullText.docx\"))"
   ]
  },
  {
   "cell_type": "code",
   "execution_count": 52,
   "id": "64d81c3c",
   "metadata": {},
   "outputs": [],
   "source": [
    "# Alternative\n",
    "def wordread2(file):\n",
    "    \"\"\"Input : Path of the word file location.\n",
    "       This function takes in docx file as parameter and then parse it to a text file.\"\"\"\n",
    "    import docx2txt\n",
    "    print(docx2txt.process(file))"
   ]
  },
  {
   "cell_type": "code",
   "execution_count": 51,
   "id": "86ad3ae6",
   "metadata": {},
   "outputs": [
    {
     "name": "stdout",
     "output_type": "stream",
     "text": [
      "This is Heading1 Text\n",
      "\n",
      "This is a regular paragraph with the default style of Normal. This is a regular paragraph with the default style of Normal. This is a regular paragraph with the default style of Normal. This is a regular paragraph with the default style of Normal. This is a regular paragraph with the default style of Normal.\n",
      "\n",
      "This is a Defined Block Style Called BlockStyleTest\n",
      "\n",
      "This is more Normal text.\n",
      "\n",
      "This is Heading 2 text\n",
      "\n",
      "This is more Normal text. This is bold, this is italic, and this is bold italic. This is normal. This is in a defined inline style called InlineStyle. This is normal. This is red text. This is normal.\n",
      "\n",
      "This block is centered.\n",
      "\n",
      "This is left-aligned.\n",
      "\n",
      " \n",
      "\n",
      "First item of bulleted list.\n",
      "\n",
      "Second item of bulleted list.\n",
      "\n",
      "Second paragraph of second item of bulleted list.\n",
      "\n",
      "Third item of bulleted list.\n",
      "\n",
      "First item of third item’s nested list\n",
      "\n",
      "Second item of third item’s nested list\n",
      "\n",
      "Fourth and final item of main bulleted list.\n"
     ]
    }
   ],
   "source": [
    "wordread2(\"fullText.docx\")"
   ]
  },
  {
   "cell_type": "markdown",
   "id": "08aa0598",
   "metadata": {},
   "source": [
    "18 . Write a function which can help you to filter only word file from a directory. "
   ]
  },
  {
   "cell_type": "code",
   "execution_count": 27,
   "id": "4e39b41e",
   "metadata": {},
   "outputs": [],
   "source": [
    "def filter_word(path):\n",
    "    \"\"\"Input : Path of the directory from where you want to word file name.\n",
    "       This function fiters word file names from the given directory path.\"\"\"\n",
    "    import os\n",
    "    lst = os.listdir(path)\n",
    "    word_lst = []\n",
    "    for i in lst:\n",
    "        e = i.split('.')[1]\n",
    "        if e == \"docx\":\n",
    "            word_lst.append(i)\n",
    "    return word_lst\n",
    "            "
   ]
  },
  {
   "cell_type": "code",
   "execution_count": 28,
   "id": "603275a7",
   "metadata": {},
   "outputs": [
    {
     "data": {
      "text/plain": [
       "['fullText.docx']"
      ]
     },
     "execution_count": 28,
     "metadata": {},
     "output_type": "execute_result"
    }
   ],
   "source": [
    "filter_word(\"C:\\\\Users\\\\Darshana\\\\Desktop\\\\Darshana\\\\Ineuron Internship\\\\Resources\\\\Assignments\")"
   ]
  },
  {
   "cell_type": "markdown",
   "id": "e925cc69",
   "metadata": {},
   "source": [
    "19 . Write a function by which you can print an ip address of your system."
   ]
  },
  {
   "cell_type": "code",
   "execution_count": 31,
   "id": "e2a561c3",
   "metadata": {},
   "outputs": [],
   "source": [
    "def sys_ip_addr():\n",
    "    \"\"\"This function prints the IP Address of your system\"\"\"\n",
    "    import socket\n",
    "    hostname = socket.gethostname()\n",
    "    IPAddress = socket.gethostbyname(hostname)\n",
    "    return IPAddress"
   ]
  },
  {
   "cell_type": "code",
   "execution_count": null,
   "id": "ed499dce",
   "metadata": {},
   "outputs": [],
   "source": [
    "sys_ip_addr()   # cell ouput cleared for security purpose"
   ]
  },
  {
   "cell_type": "markdown",
   "id": "36149f5f",
   "metadata": {},
   "source": [
    "20 . Write a function by which you will be able to append two PDF files. "
   ]
  },
  {
   "cell_type": "code",
   "execution_count": 33,
   "id": "f2b0e5db",
   "metadata": {},
   "outputs": [],
   "source": [
    "def mergepdfs(files):\n",
    "    \"\"\"Input : Provide list of PDF file locations.\n",
    "       This function merges/appends two PDF files.\"\"\"\n",
    "    import PyPDF2\n",
    "    merged_file = PyPDF2.PdfFileMerger()\n",
    "    for i in files:\n",
    "        merged_file.append(i,'rb')\n",
    "    merged_file.write(\"New_Merged_File.pdf\")"
   ]
  },
  {
   "cell_type": "code",
   "execution_count": 35,
   "id": "b09ee059",
   "metadata": {},
   "outputs": [],
   "source": [
    "mergepdfs([\"C:\\\\Users\\\\Darshana\\\\Desktop\\\\Darshana\\\\Ineuron Internship\\\\Resources\\\\Assignments\\\\test.pdf\", \n",
    "           \"C:\\\\Users\\\\Darshana\\\\Desktop\\\\Darshana\\\\Ineuron Internship\\\\Resources\\\\Assignments\\\\test1.pdf\"])"
   ]
  }
 ],
 "metadata": {
  "kernelspec": {
   "display_name": "Python 3 (ipykernel)",
   "language": "python",
   "name": "python3"
  },
  "language_info": {
   "codemirror_mode": {
    "name": "ipython",
    "version": 3
   },
   "file_extension": ".py",
   "mimetype": "text/x-python",
   "name": "python",
   "nbconvert_exporter": "python",
   "pygments_lexer": "ipython3",
   "version": "3.9.7"
  }
 },
 "nbformat": 4,
 "nbformat_minor": 5
}
